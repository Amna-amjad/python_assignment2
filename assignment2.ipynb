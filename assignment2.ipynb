{
 "cells": [
  {
   "cell_type": "code",
   "execution_count": 1,
   "id": "245c1984-cd04-4174-bfc7-195bd6f43acc",
   "metadata": {},
   "outputs": [],
   "source": [
    "#Question 1: Age Group Classification \n",
    "\n",
    "#Write a Python program that takes the age of a person as input and classifies them into one of the following age groups:\n",
    "\n",
    "#\"Child\" if the age is between 0 and 12 (inclusive).\n",
    "\n",
    "#\"Teenager\" if the age is between 13 and 19 (inclusive).\n",
    "\n",
    "#\"Adult\" if the age is between 20 and 64 (inclusive).\n",
    "\n",
    "#\"Senior\" if the age is 65 or older.\n",
    "\n"
   ]
  },
  {
   "cell_type": "code",
   "execution_count": 41,
   "id": "0b74a796-3121-496f-964d-6a1d13ac4cc8",
   "metadata": {},
   "outputs": [
    {
     "name": "stdin",
     "output_type": "stream",
     "text": [
      "Enter your age 80\n"
     ]
    },
    {
     "name": "stdout",
     "output_type": "stream",
     "text": [
      "Senior\n"
     ]
    }
   ],
   "source": [
    "age = int(input(\"Enter your age\"))\n",
    "if age <= 12:\n",
    "    print(\"Child\")\n",
    "elif age <=19:\n",
    "    print(\"Teenager\")\n",
    "elif age <=65:\n",
    "    print(\"Adult\")\n",
    "elif age >=65:\n",
    "   print(\"Senior\")"
   ]
  },
  {
   "cell_type": "code",
   "execution_count": null,
   "id": "40d24270-468b-4153-bbc5-2fdfff2f8a02",
   "metadata": {},
   "outputs": [],
   "source": [
    "#Question 2: Checking for Eligibility for Discount\n",
    "#Write a Python program that determines if a customer is eligible for a discount. \n",
    "#The program should take the customer's membership status and purchase amount as input and check the following conditions:\n",
    "#The customer is a \"premium\" member and the purchase amount is greater than or equal to 1000.\n",
    "#The customer is a \"regular\" member and the purchase amount is greater than or equal to 2000.\n",
    "#If the customer meets either of the above conditions, print \"Eligible for discount\", otherwise print \"Not eligible for discount\".\n"
   ]
  },
  {
   "cell_type": "code",
   "execution_count": 122,
   "id": "e719590b-16b6-46d7-85a8-ffcfe92c9fab",
   "metadata": {},
   "outputs": [
    {
     "name": "stdin",
     "output_type": "stream",
     "text": [
      "Kindly enter your membership status Premium\n",
      "Kindly enter purchase amount 1000\n"
     ]
    },
    {
     "name": "stdout",
     "output_type": "stream",
     "text": [
      "Eligible for discount\n"
     ]
    }
   ],
   "source": [
    "membership_status = input(\"Kindly enter your membership status\")\n",
    "purchase_amount = int(input(\"Kindly enter purchase amount\"))\n",
    "if(membership_status == \"Premium\"):\n",
    "    if(purchase_amount >= 1000):\n",
    "        print(\"Eligible for discount\")\n",
    "    else:\n",
    "        print(\"Not eligible for discount\")\n",
    "\n",
    "\n",
    "if(membership_status == \"Regular\"):\n",
    "    if(purchase_amount >= 2000):\n",
    "        print(\"Eligible for discount\")\n",
    "    else:\n",
    "        print(\"Not eligible for discount\")"
   ]
  },
  {
   "cell_type": "code",
   "execution_count": null,
   "id": "b1020ca8-21cb-485b-b778-bfbca831d46c",
   "metadata": {},
   "outputs": [],
   "source": [
    "#Question 3: Voting Eligibility Check\n",
    "#Write a Python program that checks if a person is eligible to vote based on their age and citizenship status.\n",
    "#The program should take the following inputs:\n",
    "#Age (an integer).\n",
    "#Citizenship status (a string: either \"citizen\" or \"non-citizen\").\n",
    "#The eligibility conditions are:\n",
    "#The person must be at least 18 years old and a \"citizen\" to be eligible to vote.\n",
    "#Alternatively, the person can be at least 16 years old and a \"citizen\" of a special region where voting is allowed from age 16.\n",
    "#If the person meets either of the conditions, print \"Eligible to vote\", otherwise print \"Not eligible to vote\".\n"
   ]
  },
  {
   "cell_type": "code",
   "execution_count": 138,
   "id": "83f8a9ec-26fd-41c4-9485-9773cc98050c",
   "metadata": {},
   "outputs": [
    {
     "name": "stdin",
     "output_type": "stream",
     "text": [
      "Enter your age:  18\n",
      "Enter your citizenship:  Citizen\n"
     ]
    },
    {
     "name": "stdout",
     "output_type": "stream",
     "text": [
      "Eligible\n"
     ]
    }
   ],
   "source": [
    "age = int(input(\"Enter your age: \"))\n",
    "citizenship_status = input(\"Enter your citizenship: \")\n",
    "if (age  >= 18 and citizenship_status == \"Citizen\") or (age >= 16 and citizenship_status == \"Special Citizen\"):\n",
    "    print(\"Eligible\")\n",
    "else:\n",
    "    print(\"Not Eligible\")"
   ]
  },
  {
   "cell_type": "code",
   "execution_count": null,
   "id": "dac4d7d4-d862-4f44-af01-ff83eb70b551",
   "metadata": {},
   "outputs": [],
   "source": [
    "#Question 4: Employee Salary Bonus Eligibility\n",
    "#Write a Python program that determines if an employee is eligible for a salary bonus based on the following conditions:\n",
    "#The employee's performance rating is \"Excellent\" and their years of service are greater than or equal to 5 years.\n",
    "#The employee's performance rating is \"Good\" and their years of service are greater than or equal to 10 years.\n",
    "#The employee's performance rating is \"Satisfactory\" or their years of service are greater than or equal to 15 years.\n",
    "#The employee is not eligible for a bonus if neither of these conditions is met.\n",
    "#The program should print one of the following:\n",
    "#\"Eligible for bonus\" if the employee meets any of the criteria.\n",
    "#\"Not eligible for bonus\" if none of the conditions apply."
   ]
  },
  {
   "cell_type": "code",
   "execution_count": 175,
   "id": "0b609168-344d-4c86-a46b-2404f4fb6674",
   "metadata": {},
   "outputs": [
    {
     "name": "stdin",
     "output_type": "stream",
     "text": [
      "Enter Employees Perfomance (Excellent, Good, Satisfactory) Excellent\n",
      "Enter years of service 6\n"
     ]
    },
    {
     "name": "stdout",
     "output_type": "stream",
     "text": [
      "Eligible for bonus\n"
     ]
    }
   ],
   "source": [
    "employee_perfomance = input(\"Enter Employees Perfomance (Excellent, Good, Satisfactory)\")\n",
    "years_of_sevice = int(input(\"Enter years of service\"))\n",
    "if (employee_perfomance == \"Excellent\" and years_of_sevice >=5):\n",
    "    print(\"Eligible for bonus\")\n",
    "elif (employee_perfomance == \"Good\" and years_of_sevice >=10):\n",
    "        print(\"Eligible for bonus\")\n",
    "elif (employee_perfomance == \"Satisfactory\" or years_of_sevice >=10):\n",
    "            print(\"Eligible for bonus\")\n",
    "else:\n",
    "    print(\"Not Eligible\")"
   ]
  },
  {
   "cell_type": "code",
   "execution_count": null,
   "id": "5bb5648c-891f-4fdf-91b1-0ad432486a7e",
   "metadata": {},
   "outputs": [],
   "source": [
    "#Question 5. Write a program that replaces spaces with underscores,\n",
    "#counts how many underscores are there, and finds the position of the first underscore.\n",
    "#Use text: \"I'm learning Python programming\"?\n"
   ]
  },
  {
   "cell_type": "code",
   "execution_count": 189,
   "id": "0a8691fd-c2f9-4b3a-b729-522bdfa33441",
   "metadata": {},
   "outputs": [
    {
     "name": "stdout",
     "output_type": "stream",
     "text": [
      "I'm_learning_python_programming\n",
      "3\n",
      "3\n"
     ]
    }
   ],
   "source": [
    "text = \"I'm learning python programming\"\n",
    "replace_text = text.replace(\" \", \"_\")\n",
    "count_underscore  = replace_text.count(\"_\")\n",
    "first_underscore_position = replace_text.find(\"_\")\n",
    "print(replace_text)\n",
    "print(count_underscore)\n",
    "print(first_underscore_position)"
   ]
  },
  {
   "cell_type": "code",
   "execution_count": null,
   "id": "d971754f-c1d9-4a5b-ac5c-c4d066e63be5",
   "metadata": {},
   "outputs": [],
   "source": [
    "#Question 6: \n",
    "#Write a Python program that:\n",
    "#Takes a string as input.\n",
    "#Prints all characters of the string except the last 3 using slicing.\n",
    "#Prints every second character of the string using slicing.\n",
    "#Prints the string in reverse using slicing"
   ]
  },
  {
   "cell_type": "code",
   "execution_count": 207,
   "id": "31fa16de-d377-42b4-bfcd-ccebbef52c7b",
   "metadata": {},
   "outputs": [
    {
     "name": "stdin",
     "output_type": "stream",
     "text": [
      "Enter your text python\n"
     ]
    },
    {
     "name": "stdout",
     "output_type": "stream",
     "text": [
      "All characters expect last three:  pyt\n",
      "Every second character of string:  pto\n",
      "String in reverse:  nohtyp\n"
     ]
    }
   ],
   "source": [
    "input_string = input(\"Enter your text\")\n",
    "print(\"All characters expect last three: \", input_string[:-3])\n",
    "print(\"Every second character of string: \", input_string[::2])\n",
    "print(\"String in reverse: \", input_string[::-1])"
   ]
  },
  {
   "cell_type": "code",
   "execution_count": null,
   "id": "c507f3b0-f733-4696-b780-52833806141f",
   "metadata": {},
   "outputs": [],
   "source": [
    "#Question 7. Given a sentence, you need to reverse the order of the words in the sentence while preserving their original capitalization and spaces.\n",
    "#Use text : \"Hello World, We are learning Python\""
   ]
  },
  {
   "cell_type": "code",
   "execution_count": 233,
   "id": "3891f028-a1f1-4a0a-b57a-097623e0cf8a",
   "metadata": {},
   "outputs": [
    {
     "name": "stdout",
     "output_type": "stream",
     "text": [
      "Python learning are We World, Hello\n"
     ]
    }
   ],
   "source": [
    "text = \"Hello World, We are learning Python\"\n",
    "words = text.split()\n",
    "reversed_text = words[::-1]\n",
    "reversed_sentence = \" \".join(reversed_text)\n",
    "print(reversed_sentence)"
   ]
  },
  {
   "cell_type": "code",
   "execution_count": null,
   "id": "22062095-aefe-4928-86e1-205cc2dc90d2",
   "metadata": {},
   "outputs": [],
   "source": [
    "#Question 8. You have a product code that follows the format \"SKU-12345-XYZ\". You need to:\n",
    "#Remove the \"SKU-\" and the \"-XYZ\" from the product code. Extract and return the number"
   ]
  },
  {
   "cell_type": "code",
   "execution_count": 257,
   "id": "65d7668a-7bfa-463b-b10b-89b827431a5d",
   "metadata": {},
   "outputs": [
    {
     "name": "stdout",
     "output_type": "stream",
     "text": [
      "12345\n"
     ]
    }
   ],
   "source": [
    "product_code = \"SKU-12345-XYZ\"\n",
    "number = product_code.replace(\"SKU-\", \"\").replace(\"-XYZ\", \"\")\n",
    "print(number)"
   ]
  },
  {
   "cell_type": "code",
   "execution_count": null,
   "id": "eea62c41-94ad-49f5-bbf4-63b8f3a56213",
   "metadata": {},
   "outputs": [],
   "source": [
    "#Question 9. Write a Python program to check user password has following:\n",
    "#Whether the string contains any uppercase characters. Whether the string contains any lowercase characters. \n",
    "#Whether the string contains any spaces. Whether the string contains any special characters (anything other than letters, digits, and spaces)."
   ]
  },
  {
   "cell_type": "code",
   "execution_count": 263,
   "id": "3dac02ab-1bc0-4c61-a27f-7013d39a6252",
   "metadata": {},
   "outputs": [
    {
     "name": "stdin",
     "output_type": "stream",
     "text": [
      "Enter your Password Amna 1$$\n"
     ]
    },
    {
     "name": "stdout",
     "output_type": "stream",
     "text": [
      "Uppercase True\n",
      "Lowercase True\n",
      "Any Spaces True\n",
      "Special Characters True\n"
     ]
    }
   ],
   "source": [
    "password = input(\"Enter your Password\")\n",
    "any_upper_case = any(char.isupper() for char in password)\n",
    "any_lower_case = any(char.islower() for char in password)\n",
    "any_spaces = any(char.isspace() for char in password)\n",
    "any_special_character = any(not char.isalnum() and not char.isspace() for char in password )\n",
    "print(\"Uppercase\", any_upper_case)\n",
    "print(\"Lowercase\", any_lower_case)\n",
    "print(\"Any Spaces\", any_spaces)\n",
    "print(\"Special Characters\", any_special_character )"
   ]
  },
  {
   "cell_type": "code",
   "execution_count": null,
   "id": "076a3981-6adc-4130-a09c-c8d50f64d4aa",
   "metadata": {},
   "outputs": [],
   "source": [
    "#Question 10: Find the Longest Word\n",
    "#Write a Python program that finds the longest word in a given string.\n",
    "#Example:\n",
    "#Input: \"I love programming in Python\"\n",
    "#Output: \"programming\""
   ]
  },
  {
   "cell_type": "code",
   "execution_count": 269,
   "id": "56451425-f8a5-46e8-a6bd-f04147cb8972",
   "metadata": {},
   "outputs": [
    {
     "name": "stdout",
     "output_type": "stream",
     "text": [
      "Input: I love programming in Python\n",
      "Output: programming\n"
     ]
    }
   ],
   "source": [
    "def find_longest_word(sentence):\n",
    "    return max(sentence.split(), key=len)\n",
    "    \n",
    "input_sentence = \"I love programming in Python\"\n",
    "print(\"Input:\", input_sentence)\n",
    "print(\"Output:\", find_longest_word(input_sentence))\n"
   ]
  }
 ],
 "metadata": {
  "kernelspec": {
   "display_name": "Python 3 (ipykernel)",
   "language": "python",
   "name": "python3"
  },
  "language_info": {
   "codemirror_mode": {
    "name": "ipython",
    "version": 3
   },
   "file_extension": ".py",
   "mimetype": "text/x-python",
   "name": "python",
   "nbconvert_exporter": "python",
   "pygments_lexer": "ipython3",
   "version": "3.12.7"
  }
 },
 "nbformat": 4,
 "nbformat_minor": 5
}
